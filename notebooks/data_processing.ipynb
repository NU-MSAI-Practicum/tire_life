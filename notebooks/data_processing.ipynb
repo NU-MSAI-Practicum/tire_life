{
 "cells": [
  {
   "cell_type": "markdown",
   "metadata": {},
   "source": [
    "### Libraries"
   ]
  },
  {
   "cell_type": "code",
   "execution_count": 2,
   "metadata": {},
   "outputs": [],
   "source": [
    "import numpy as np\n",
    "import pandas as pd\n",
    "import matplotlib.pyplot as plt"
   ]
  },
  {
   "cell_type": "markdown",
   "metadata": {},
   "source": [
    "### Original Data - rf_data.csv"
   ]
  },
  {
   "cell_type": "code",
   "execution_count": 118,
   "metadata": {},
   "outputs": [],
   "source": [
    "gaussian_data_path = '../data/processed/Gaussian_Reduced_Data.csv'"
   ]
  },
  {
   "cell_type": "code",
   "execution_count": 119,
   "metadata": {},
   "outputs": [
    {
     "name": "stdout",
     "output_type": "stream",
     "text": [
      "<class 'pandas.core.frame.DataFrame'>\n",
      "RangeIndex: 365040 entries, 0 to 365039\n",
      "Data columns (total 13 columns):\n",
      " #   Column                    Non-Null Count   Dtype  \n",
      "---  ------                    --------------   -----  \n",
      " 0   age_days                  365040 non-null  float64\n",
      " 1   casing_mileage_kms        365040 non-null  float64\n",
      " 2   Life_Num                  365040 non-null  float64\n",
      " 3   wp_load_kg                365040 non-null  float64\n",
      " 4   avg_veh_speed_kph         365040 non-null  float64\n",
      " 5   P_avg_bar                 365040 non-null  float64\n",
      " 6   T_avg_degC                365040 non-null  float64\n",
      " 7   n_rxns_cumul              365040 non-null  float64\n",
      " 8   NC_sidewall_SEelm_sumrev  365040 non-null  float64\n",
      " 9   NC_sidewall_CVMD_AMP      365040 non-null  float64\n",
      " 10  NC_sidewall_maxCVMD_rev   365040 non-null  float64\n",
      " 11  predicted_RCP             360864 non-null  float64\n",
      " 12  Tire_ID                   365040 non-null  object \n",
      "dtypes: float64(12), object(1)\n",
      "memory usage: 36.2+ MB\n"
     ]
    }
   ],
   "source": [
    "df_gaussian = pd.read_csv(gaussian_data_path)\n",
    "df_gaussian.info()"
   ]
  },
  {
   "cell_type": "code",
   "execution_count": 120,
   "metadata": {},
   "outputs": [],
   "source": [
    "df = df_gaussian[['Tire_ID','age_days','predicted_RCP']]"
   ]
  },
  {
   "cell_type": "code",
   "execution_count": 121,
   "metadata": {},
   "outputs": [
    {
     "name": "stdout",
     "output_type": "stream",
     "text": [
      "<class 'pandas.core.frame.DataFrame'>\n",
      "RangeIndex: 365040 entries, 0 to 365039\n",
      "Data columns (total 3 columns):\n",
      " #   Column         Non-Null Count   Dtype  \n",
      "---  ------         --------------   -----  \n",
      " 0   Tire_ID        365040 non-null  object \n",
      " 1   age_days       365040 non-null  float64\n",
      " 2   predicted_RCP  360864 non-null  float64\n",
      "dtypes: float64(2), object(1)\n",
      "memory usage: 8.4+ MB\n"
     ]
    },
    {
     "data": {
      "text/html": [
       "<div>\n",
       "<style scoped>\n",
       "    .dataframe tbody tr th:only-of-type {\n",
       "        vertical-align: middle;\n",
       "    }\n",
       "\n",
       "    .dataframe tbody tr th {\n",
       "        vertical-align: top;\n",
       "    }\n",
       "\n",
       "    .dataframe thead th {\n",
       "        text-align: right;\n",
       "    }\n",
       "</style>\n",
       "<table border=\"1\" class=\"dataframe\">\n",
       "  <thead>\n",
       "    <tr style=\"text-align: right;\">\n",
       "      <th></th>\n",
       "      <th>Tire_ID</th>\n",
       "      <th>age_days</th>\n",
       "      <th>predicted_RCP</th>\n",
       "    </tr>\n",
       "  </thead>\n",
       "  <tbody>\n",
       "    <tr>\n",
       "      <th>0</th>\n",
       "      <td>0916W03</td>\n",
       "      <td>-8.881784e-16</td>\n",
       "      <td>1.0</td>\n",
       "    </tr>\n",
       "    <tr>\n",
       "      <th>1</th>\n",
       "      <td>0916W03</td>\n",
       "      <td>7.537879e-01</td>\n",
       "      <td>1.0</td>\n",
       "    </tr>\n",
       "    <tr>\n",
       "      <th>2</th>\n",
       "      <td>0916W03</td>\n",
       "      <td>1.507576e+00</td>\n",
       "      <td>1.0</td>\n",
       "    </tr>\n",
       "    <tr>\n",
       "      <th>3</th>\n",
       "      <td>0916W03</td>\n",
       "      <td>2.261364e+00</td>\n",
       "      <td>1.0</td>\n",
       "    </tr>\n",
       "    <tr>\n",
       "      <th>4</th>\n",
       "      <td>0916W03</td>\n",
       "      <td>3.015152e+00</td>\n",
       "      <td>1.0</td>\n",
       "    </tr>\n",
       "  </tbody>\n",
       "</table>\n",
       "</div>"
      ],
      "text/plain": [
       "   Tire_ID      age_days  predicted_RCP\n",
       "0  0916W03 -8.881784e-16            1.0\n",
       "1  0916W03  7.537879e-01            1.0\n",
       "2  0916W03  1.507576e+00            1.0\n",
       "3  0916W03  2.261364e+00            1.0\n",
       "4  0916W03  3.015152e+00            1.0"
      ]
     },
     "execution_count": 121,
     "metadata": {},
     "output_type": "execute_result"
    }
   ],
   "source": [
    "df.info()\n",
    "df.head()"
   ]
  },
  {
   "cell_type": "code",
   "execution_count": 122,
   "metadata": {},
   "outputs": [
    {
     "name": "stdout",
     "output_type": "stream",
     "text": [
      "               Missing Values  % of Total\n",
      "Tire_ID                     0    0.000000\n",
      "age_days                    0    0.000000\n",
      "predicted_RCP            4176    1.143984\n"
     ]
    }
   ],
   "source": [
    "null_stats = pd.DataFrame(df.isna().sum(), columns=['Missing Values'])\n",
    "null_stats['% of Total'] = (null_stats['Missing Values'] / df.shape[0]) * 100\n",
    "print(null_stats)"
   ]
  },
  {
   "cell_type": "code",
   "execution_count": 123,
   "metadata": {},
   "outputs": [
    {
     "name": "stdout",
     "output_type": "stream",
     "text": [
      "Example of a row with a null value:\n",
      "       Tire_ID      age_days  predicted_RCP\n",
      "10656  KR9789  2.122746e-13            NaN\n"
     ]
    }
   ],
   "source": [
    "mask = df.isna().any(axis=1)\n",
    "example_row = df[mask].head(1)\n",
    "print(\"Example of a row with a null value:\\n\", example_row)"
   ]
  },
  {
   "cell_type": "code",
   "execution_count": 124,
   "metadata": {},
   "outputs": [
    {
     "name": "stdout",
     "output_type": "stream",
     "text": [
      "<class 'pandas.core.frame.DataFrame'>\n",
      "Index: 360864 entries, 0 to 365039\n",
      "Data columns (total 3 columns):\n",
      " #   Column         Non-Null Count   Dtype  \n",
      "---  ------         --------------   -----  \n",
      " 0   Tire_ID        360864 non-null  object \n",
      " 1   age_days       360864 non-null  float64\n",
      " 2   predicted_RCP  360864 non-null  float64\n",
      "dtypes: float64(2), object(1)\n",
      "memory usage: 11.0+ MB\n"
     ]
    }
   ],
   "source": [
    "df = df.dropna()\n",
    "df.info()"
   ]
  },
  {
   "cell_type": "code",
   "execution_count": 125,
   "metadata": {},
   "outputs": [
    {
     "name": "stdout",
     "output_type": "stream",
     "text": [
      "Empty DataFrame\n",
      "Columns: [Tire_ID, age_days, predicted_RCP]\n",
      "Index: []\n",
      "Total duplicate rows: 0\n"
     ]
    }
   ],
   "source": [
    "duplicates = df.duplicated(keep=False)\n",
    "print(df[duplicates])\n",
    "print(\"Total duplicate rows:\", duplicates.sum())"
   ]
  },
  {
   "cell_type": "code",
   "execution_count": 126,
   "metadata": {},
   "outputs": [
    {
     "name": "stdout",
     "output_type": "stream",
     "text": [
      "<class 'pandas.core.frame.DataFrame'>\n",
      "Index: 2506 entries, 0 to 364896\n",
      "Data columns (total 3 columns):\n",
      " #   Column         Non-Null Count  Dtype  \n",
      "---  ------         --------------  -----  \n",
      " 0   Tire_ID        2506 non-null   object \n",
      " 1   age_days       2506 non-null   float64\n",
      " 2   predicted_RCP  2506 non-null   float64\n",
      "dtypes: float64(2), object(1)\n",
      "memory usage: 78.3+ KB\n",
      "Invalid Data:\n"
     ]
    },
    {
     "data": {
      "text/html": [
       "<div>\n",
       "<style scoped>\n",
       "    .dataframe tbody tr th:only-of-type {\n",
       "        vertical-align: middle;\n",
       "    }\n",
       "\n",
       "    .dataframe tbody tr th {\n",
       "        vertical-align: top;\n",
       "    }\n",
       "\n",
       "    .dataframe thead th {\n",
       "        text-align: right;\n",
       "    }\n",
       "</style>\n",
       "<table border=\"1\" class=\"dataframe\">\n",
       "  <thead>\n",
       "    <tr style=\"text-align: right;\">\n",
       "      <th></th>\n",
       "      <th>Tire_ID</th>\n",
       "      <th>age_days</th>\n",
       "      <th>predicted_RCP</th>\n",
       "    </tr>\n",
       "  </thead>\n",
       "  <tbody>\n",
       "    <tr>\n",
       "      <th>0</th>\n",
       "      <td>0916W03</td>\n",
       "      <td>-8.881784e-16</td>\n",
       "      <td>1.0</td>\n",
       "    </tr>\n",
       "    <tr>\n",
       "      <th>144</th>\n",
       "      <td>0714T56</td>\n",
       "      <td>-3.463896e-14</td>\n",
       "      <td>1.0</td>\n",
       "    </tr>\n",
       "    <tr>\n",
       "      <th>288</th>\n",
       "      <td>MK6870</td>\n",
       "      <td>-9.681145e-14</td>\n",
       "      <td>1.0</td>\n",
       "    </tr>\n",
       "    <tr>\n",
       "      <th>432</th>\n",
       "      <td>MK6503</td>\n",
       "      <td>-1.758593e-13</td>\n",
       "      <td>1.0</td>\n",
       "    </tr>\n",
       "    <tr>\n",
       "      <th>576</th>\n",
       "      <td>MK7050A</td>\n",
       "      <td>2.087219e-13</td>\n",
       "      <td>1.0</td>\n",
       "    </tr>\n",
       "  </tbody>\n",
       "</table>\n",
       "</div>"
      ],
      "text/plain": [
       "     Tire_ID      age_days  predicted_RCP\n",
       "0    0916W03 -8.881784e-16            1.0\n",
       "144  0714T56 -3.463896e-14            1.0\n",
       "288   MK6870 -9.681145e-14            1.0\n",
       "432   MK6503 -1.758593e-13            1.0\n",
       "576  MK7050A  2.087219e-13            1.0"
      ]
     },
     "execution_count": 126,
     "metadata": {},
     "output_type": "execute_result"
    }
   ],
   "source": [
    "invalid = df[(df[['age_days']] < 0.1).all(axis=1)]\n",
    "invalid.info()\n",
    "print('Invalid Data:')\n",
    "invalid.head()"
   ]
  },
  {
   "cell_type": "code",
   "execution_count": 127,
   "metadata": {},
   "outputs": [
    {
     "name": "stdout",
     "output_type": "stream",
     "text": [
      "<class 'pandas.core.frame.DataFrame'>\n",
      "Index: 358358 entries, 1 to 365039\n",
      "Data columns (total 3 columns):\n",
      " #   Column         Non-Null Count   Dtype  \n",
      "---  ------         --------------   -----  \n",
      " 0   Tire_ID        358358 non-null  object \n",
      " 1   age_days       358358 non-null  float64\n",
      " 2   predicted_RCP  358358 non-null  float64\n",
      "dtypes: float64(2), object(1)\n",
      "memory usage: 10.9+ MB\n"
     ]
    }
   ],
   "source": [
    "df = df[(df[['age_days']] >= 0.1).all(axis=1)]\n",
    "df.info()"
   ]
  },
  {
   "cell_type": "code",
   "execution_count": 128,
   "metadata": {},
   "outputs": [],
   "source": [
    "df.to_csv('../data/rf_training/rf_data.csv', index=False)"
   ]
  },
  {
   "cell_type": "markdown",
   "metadata": {},
   "source": [
    "### Simulation Data - simulation_data.csv"
   ]
  },
  {
   "cell_type": "code",
   "execution_count": 129,
   "metadata": {},
   "outputs": [
    {
     "data": {
      "text/html": [
       "<div>\n",
       "<style scoped>\n",
       "    .dataframe tbody tr th:only-of-type {\n",
       "        vertical-align: middle;\n",
       "    }\n",
       "\n",
       "    .dataframe tbody tr th {\n",
       "        vertical-align: top;\n",
       "    }\n",
       "\n",
       "    .dataframe thead th {\n",
       "        text-align: right;\n",
       "    }\n",
       "</style>\n",
       "<table border=\"1\" class=\"dataframe\">\n",
       "  <thead>\n",
       "    <tr style=\"text-align: right;\">\n",
       "      <th></th>\n",
       "      <th>Tire_ID</th>\n",
       "      <th>age_days</th>\n",
       "      <th>predicted_RCP</th>\n",
       "    </tr>\n",
       "  </thead>\n",
       "  <tbody>\n",
       "    <tr>\n",
       "      <th>1</th>\n",
       "      <td>0916W03</td>\n",
       "      <td>0.0</td>\n",
       "      <td>1.0</td>\n",
       "    </tr>\n",
       "    <tr>\n",
       "      <th>2</th>\n",
       "      <td>0916W03</td>\n",
       "      <td>1.0</td>\n",
       "      <td>1.0</td>\n",
       "    </tr>\n",
       "    <tr>\n",
       "      <th>3</th>\n",
       "      <td>0916W03</td>\n",
       "      <td>2.0</td>\n",
       "      <td>1.0</td>\n",
       "    </tr>\n",
       "    <tr>\n",
       "      <th>4</th>\n",
       "      <td>0916W03</td>\n",
       "      <td>3.0</td>\n",
       "      <td>1.0</td>\n",
       "    </tr>\n",
       "    <tr>\n",
       "      <th>5</th>\n",
       "      <td>0916W03</td>\n",
       "      <td>3.0</td>\n",
       "      <td>1.0</td>\n",
       "    </tr>\n",
       "  </tbody>\n",
       "</table>\n",
       "</div>"
      ],
      "text/plain": [
       "   Tire_ID  age_days  predicted_RCP\n",
       "1  0916W03       0.0            1.0\n",
       "2  0916W03       1.0            1.0\n",
       "3  0916W03       2.0            1.0\n",
       "4  0916W03       3.0            1.0\n",
       "5  0916W03       3.0            1.0"
      ]
     },
     "execution_count": 129,
     "metadata": {},
     "output_type": "execute_result"
    }
   ],
   "source": [
    "# rounding down age_days for easier bucketing during simulation\n",
    "df['age_days'] = np.floor(df['age_days'])\n",
    "df.head()"
   ]
  },
  {
   "cell_type": "code",
   "execution_count": 130,
   "metadata": {},
   "outputs": [
    {
     "name": "stdout",
     "output_type": "stream",
     "text": [
      "   Tire_ID  max_age_days\n",
      "0  0215T01        1568.0\n",
      "1  0215T02        1653.0\n",
      "2  0215T03        1183.0\n",
      "3  0215T04         318.0\n",
      "4  0215T06        1684.0\n"
     ]
    }
   ],
   "source": [
    "max_age_by_tire = df.groupby('Tire_ID')['age_days'].max().reset_index()\n",
    "max_age_by_tire.columns = ['Tire_ID', 'max_age_days']\n",
    "print(max_age_by_tire.head())"
   ]
  },
  {
   "cell_type": "code",
   "execution_count": 131,
   "metadata": {},
   "outputs": [
    {
     "name": "stdout",
     "output_type": "stream",
     "text": [
      "       Tire_ID  age_days  predicted_RCP\n",
      "95459    AM167    1967.0       0.001755\n",
      "173363   AM333    1967.0       0.000687\n"
     ]
    }
   ],
   "source": [
    "rcp_filtered_df = df[df['predicted_RCP'] > 0]\n",
    "max_age_tire = rcp_filtered_df[rcp_filtered_df['age_days'] == rcp_filtered_df['age_days'].max()]\n",
    "print(max_age_tire)"
   ]
  },
  {
   "cell_type": "code",
   "execution_count": 132,
   "metadata": {},
   "outputs": [
    {
     "data": {
      "text/plain": [
       "2999.0"
      ]
     },
     "execution_count": 132,
     "metadata": {},
     "output_type": "execute_result"
    }
   ],
   "source": [
    "df['age_days'].max()"
   ]
  },
  {
   "cell_type": "code",
   "execution_count": 133,
   "metadata": {},
   "outputs": [
    {
     "name": "stdout",
     "output_type": "stream",
     "text": [
      "<class 'pandas.core.frame.DataFrame'>\n",
      "Index: 356753 entries, 1 to 365039\n",
      "Data columns (total 3 columns):\n",
      " #   Column         Non-Null Count   Dtype  \n",
      "---  ------         --------------   -----  \n",
      " 0   Tire_ID        356753 non-null  object \n",
      " 1   age_days       356753 non-null  float64\n",
      " 2   predicted_RCP  356753 non-null  float64\n",
      "dtypes: float64(2), object(1)\n",
      "memory usage: 10.9+ MB\n"
     ]
    },
    {
     "data": {
      "text/plain": [
       "2000.0"
      ]
     },
     "execution_count": 133,
     "metadata": {},
     "output_type": "execute_result"
    }
   ],
   "source": [
    "df = df[df['age_days'] <= 2000]\n",
    "df.info()\n",
    "df['age_days'].max()"
   ]
  },
  {
   "cell_type": "code",
   "execution_count": 147,
   "metadata": {},
   "outputs": [],
   "source": [
    "df.to_csv('../data/rf_training/simulation_data.csv', index=False)"
   ]
  },
  {
   "cell_type": "markdown",
   "metadata": {},
   "source": [
    "### Tire ID Data - tire_data.csv"
   ]
  },
  {
   "cell_type": "code",
   "execution_count": 134,
   "metadata": {},
   "outputs": [
    {
     "data": {
      "text/plain": [
       "2506"
      ]
     },
     "execution_count": 134,
     "metadata": {},
     "output_type": "execute_result"
    }
   ],
   "source": [
    "df['Tire_ID'].nunique()"
   ]
  },
  {
   "cell_type": "code",
   "execution_count": 141,
   "metadata": {},
   "outputs": [
    {
     "name": "stdout",
     "output_type": "stream",
     "text": [
      "<class 'pandas.core.frame.DataFrame'>\n",
      "RangeIndex: 2506 entries, 0 to 2505\n",
      "Data columns (total 2 columns):\n",
      " #   Column        Non-Null Count  Dtype  \n",
      "---  ------        --------------  -----  \n",
      " 0   Tire_ID       2506 non-null   object \n",
      " 1   max_age_days  2506 non-null   float64\n",
      "dtypes: float64(1), object(1)\n",
      "memory usage: 39.3+ KB\n"
     ]
    },
    {
     "data": {
      "text/html": [
       "<div>\n",
       "<style scoped>\n",
       "    .dataframe tbody tr th:only-of-type {\n",
       "        vertical-align: middle;\n",
       "    }\n",
       "\n",
       "    .dataframe tbody tr th {\n",
       "        vertical-align: top;\n",
       "    }\n",
       "\n",
       "    .dataframe thead th {\n",
       "        text-align: right;\n",
       "    }\n",
       "</style>\n",
       "<table border=\"1\" class=\"dataframe\">\n",
       "  <thead>\n",
       "    <tr style=\"text-align: right;\">\n",
       "      <th></th>\n",
       "      <th>Tire_ID</th>\n",
       "      <th>max_age_days</th>\n",
       "    </tr>\n",
       "  </thead>\n",
       "  <tbody>\n",
       "    <tr>\n",
       "      <th>0</th>\n",
       "      <td>0215T01</td>\n",
       "      <td>575.0</td>\n",
       "    </tr>\n",
       "    <tr>\n",
       "      <th>1</th>\n",
       "      <td>0215T02</td>\n",
       "      <td>457.0</td>\n",
       "    </tr>\n",
       "    <tr>\n",
       "      <th>2</th>\n",
       "      <td>0215T03</td>\n",
       "      <td>755.0</td>\n",
       "    </tr>\n",
       "    <tr>\n",
       "      <th>3</th>\n",
       "      <td>0215T04</td>\n",
       "      <td>233.0</td>\n",
       "    </tr>\n",
       "    <tr>\n",
       "      <th>4</th>\n",
       "      <td>0215T06</td>\n",
       "      <td>770.0</td>\n",
       "    </tr>\n",
       "  </tbody>\n",
       "</table>\n",
       "</div>"
      ],
      "text/plain": [
       "   Tire_ID  max_age_days\n",
       "0  0215T01         575.0\n",
       "1  0215T02         457.0\n",
       "2  0215T03         755.0\n",
       "3  0215T04         233.0\n",
       "4  0215T06         770.0"
      ]
     },
     "execution_count": 141,
     "metadata": {},
     "output_type": "execute_result"
    }
   ],
   "source": [
    "df_tireid = rcp_filtered_df.groupby('Tire_ID')['age_days'].max().reset_index()\n",
    "df_tireid.columns = ['Tire_ID', 'max_age_days']\n",
    "df_tireid.info()\n",
    "df_tireid.head()"
   ]
  },
  {
   "cell_type": "code",
   "execution_count": 142,
   "metadata": {},
   "outputs": [
    {
     "name": "stdout",
     "output_type": "stream",
     "text": [
      "<class 'pandas.core.frame.DataFrame'>\n",
      "RangeIndex: 2506 entries, 0 to 2505\n",
      "Data columns (total 2 columns):\n",
      " #   Column        Non-Null Count  Dtype  \n",
      "---  ------        --------------  -----  \n",
      " 0   Tire_ID       2506 non-null   object \n",
      " 1   max_age_days  2506 non-null   float64\n",
      "dtypes: float64(1), object(1)\n",
      "memory usage: 39.3+ KB\n"
     ]
    }
   ],
   "source": [
    "df_tireid = df_tireid.drop_duplicates().sort_values(by='Tire_ID')\n",
    "df_tireid.info()"
   ]
  },
  {
   "cell_type": "code",
   "execution_count": 143,
   "metadata": {},
   "outputs": [],
   "source": [
    "bins = [0, 400, 800, 1200, 1600, 2000]\n",
    "labels = ['0-399', '400-799', '800-1199', '1200-1599', '1600-1999']\n",
    "df_tireid['age_category'] = pd.cut(df_tireid['max_age_days'], bins=bins, labels=labels, include_lowest=True)\n",
    "age_distribution = df_tireid['age_category'].value_counts().sort_index()"
   ]
  },
  {
   "cell_type": "code",
   "execution_count": 145,
   "metadata": {},
   "outputs": [
    {
     "data": {
      "image/png": "[encoded data removed]",
      "text/plain": [
       "<Figure size 600x400 with 1 Axes>"
      ]
     },
     "metadata": {},
     "output_type": "display_data"
    },
    {
     "name": "stdout",
     "output_type": "stream",
     "text": [
      "age_category\n",
      "0-399        634\n",
      "400-799      874\n",
      "800-1199     683\n",
      "1200-1599    286\n",
      "1600-1999     29\n",
      "Name: count, dtype: int64\n"
     ]
    }
   ],
   "source": [
    "# Plotting\n",
    "plt.figure(figsize=(6, 4))\n",
    "age_distribution.plot(kind='bar', color='teal')\n",
    "plt.title('Distribution of Max Tire Life')\n",
    "plt.xlabel('Age Days (bucketed)')\n",
    "plt.ylabel('Number of Tires')\n",
    "plt.xticks(rotation=45)\n",
    "plt.grid(axis='y', linestyle='--', alpha=0.7)\n",
    "plt.show()\n",
    "print(age_distribution)"
   ]
  },
  {
   "cell_type": "code",
   "execution_count": 146,
   "metadata": {},
   "outputs": [],
   "source": [
    "df_tireid.to_csv('../data/rf_training/tire_data.csv', index=False)"
   ]
  },
  {
   "cell_type": "markdown",
   "metadata": {},
   "source": [
    "### Simulation Episodes - simulation_episode.csv"
   ]
  },
  {
   "cell_type": "code",
   "execution_count": 3,
   "metadata": {},
   "outputs": [
    {
     "data": {
      "text/html": [
       "<div>\n",
       "<style scoped>\n",
       "    .dataframe tbody tr th:only-of-type {\n",
       "        vertical-align: middle;\n",
       "    }\n",
       "\n",
       "    .dataframe tbody tr th {\n",
       "        vertical-align: top;\n",
       "    }\n",
       "\n",
       "    .dataframe thead th {\n",
       "        text-align: right;\n",
       "    }\n",
       "</style>\n",
       "<table border=\"1\" class=\"dataframe\">\n",
       "  <thead>\n",
       "    <tr style=\"text-align: right;\">\n",
       "      <th></th>\n",
       "      <th>Tire_ID</th>\n",
       "      <th>age_days</th>\n",
       "      <th>predicted_RCP</th>\n",
       "    </tr>\n",
       "  </thead>\n",
       "  <tbody>\n",
       "    <tr>\n",
       "      <th>0</th>\n",
       "      <td>0916W03</td>\n",
       "      <td>0.0</td>\n",
       "      <td>1.0</td>\n",
       "    </tr>\n",
       "    <tr>\n",
       "      <th>1</th>\n",
       "      <td>0916W03</td>\n",
       "      <td>1.0</td>\n",
       "      <td>1.0</td>\n",
       "    </tr>\n",
       "    <tr>\n",
       "      <th>2</th>\n",
       "      <td>0916W03</td>\n",
       "      <td>2.0</td>\n",
       "      <td>1.0</td>\n",
       "    </tr>\n",
       "    <tr>\n",
       "      <th>3</th>\n",
       "      <td>0916W03</td>\n",
       "      <td>3.0</td>\n",
       "      <td>1.0</td>\n",
       "    </tr>\n",
       "    <tr>\n",
       "      <th>4</th>\n",
       "      <td>0916W03</td>\n",
       "      <td>3.0</td>\n",
       "      <td>1.0</td>\n",
       "    </tr>\n",
       "  </tbody>\n",
       "</table>\n",
       "</div>"
      ],
      "text/plain": [
       "   Tire_ID  age_days  predicted_RCP\n",
       "0  0916W03       0.0            1.0\n",
       "1  0916W03       1.0            1.0\n",
       "2  0916W03       2.0            1.0\n",
       "3  0916W03       3.0            1.0\n",
       "4  0916W03       3.0            1.0"
      ]
     },
     "execution_count": 3,
     "metadata": {},
     "output_type": "execute_result"
    }
   ],
   "source": [
    "simulation_df = pd.read_csv('../data/rf_training/simulation_data.csv')\n",
    "simulation_df.head()"
   ]
  },
  {
   "cell_type": "code",
   "execution_count": 4,
   "metadata": {},
   "outputs": [],
   "source": [
    "# Create checkpoints from 30 to 2000 in steps of 30\n",
    "check_points = np.arange(0, 2001, 30)\n",
    "\n",
    "# Create a new DataFrame to store the results\n",
    "episodes_df = pd.DataFrame({'Tire_ID': pd.Series(dtype='object'), 'check_point': pd.Series(dtype='int'), 'MappedRCP': pd.Series(dtype='float')})"
   ]
  },
  {
   "cell_type": "code",
   "execution_count": 5,
   "metadata": {},
   "outputs": [],
   "source": [
    "new_data = []\n",
    "\n",
    "# Process each unique tire\n",
    "for tire_id in simulation_df['Tire_ID'].unique():\n",
    "    tire_data = simulation_df[simulation_df['Tire_ID'] == tire_id]\n",
    "    \n",
    "    # For each checkpoint, find the closest 'Age_days' and get its 'PredictedRCP'\n",
    "    for check_point in check_points:\n",
    "        # Find the closest 'Age_days'\n",
    "        closest_age_day = tire_data.iloc[(tire_data['age_days'] - check_point).abs().argsort()[:1]]\n",
    "        # Append the results to a list\n",
    "        new_data.append({\n",
    "            'Tire_ID': tire_id,\n",
    "            'check_point': check_point,\n",
    "            'MappedRCP': closest_age_day['predicted_RCP'].values[0]\n",
    "        })\n",
    "episodes_df = pd.DataFrame(new_data)\n"
   ]
  },
  {
   "cell_type": "code",
   "execution_count": 6,
   "metadata": {},
   "outputs": [
    {
     "data": {
      "text/html": [
       "<div>\n",
       "<style scoped>\n",
       "    .dataframe tbody tr th:only-of-type {\n",
       "        vertical-align: middle;\n",
       "    }\n",
       "\n",
       "    .dataframe tbody tr th {\n",
       "        vertical-align: top;\n",
       "    }\n",
       "\n",
       "    .dataframe thead th {\n",
       "        text-align: right;\n",
       "    }\n",
       "</style>\n",
       "<table border=\"1\" class=\"dataframe\">\n",
       "  <thead>\n",
       "    <tr style=\"text-align: right;\">\n",
       "      <th></th>\n",
       "      <th>Tire_ID</th>\n",
       "      <th>check_point</th>\n",
       "      <th>MappedRCP</th>\n",
       "    </tr>\n",
       "  </thead>\n",
       "  <tbody>\n",
       "    <tr>\n",
       "      <th>0</th>\n",
       "      <td>0916W03</td>\n",
       "      <td>0</td>\n",
       "      <td>1.0</td>\n",
       "    </tr>\n",
       "    <tr>\n",
       "      <th>1</th>\n",
       "      <td>0916W03</td>\n",
       "      <td>30</td>\n",
       "      <td>1.0</td>\n",
       "    </tr>\n",
       "    <tr>\n",
       "      <th>2</th>\n",
       "      <td>0916W03</td>\n",
       "      <td>60</td>\n",
       "      <td>1.0</td>\n",
       "    </tr>\n",
       "    <tr>\n",
       "      <th>3</th>\n",
       "      <td>0916W03</td>\n",
       "      <td>90</td>\n",
       "      <td>1.0</td>\n",
       "    </tr>\n",
       "    <tr>\n",
       "      <th>4</th>\n",
       "      <td>0916W03</td>\n",
       "      <td>120</td>\n",
       "      <td>1.0</td>\n",
       "    </tr>\n",
       "  </tbody>\n",
       "</table>\n",
       "</div>"
      ],
      "text/plain": [
       "   Tire_ID  check_point  MappedRCP\n",
       "0  0916W03            0        1.0\n",
       "1  0916W03           30        1.0\n",
       "2  0916W03           60        1.0\n",
       "3  0916W03           90        1.0\n",
       "4  0916W03          120        1.0"
      ]
     },
     "execution_count": 6,
     "metadata": {},
     "output_type": "execute_result"
    }
   ],
   "source": [
    "episodes_df.head()"
   ]
  },
  {
   "cell_type": "code",
   "execution_count": 8,
   "metadata": {},
   "outputs": [],
   "source": [
    "episodes_df.to_csv('../data/rf_training/simulation_episodes.csv', index=False)"
   ]
  },
  {
   "cell_type": "code",
   "execution_count": 9,
   "metadata": {},
   "outputs": [
    {
     "name": "stdout",
     "output_type": "stream",
     "text": [
      "<class 'pandas.core.frame.DataFrame'>\n",
      "RangeIndex: 167902 entries, 0 to 167901\n",
      "Data columns (total 3 columns):\n",
      " #   Column       Non-Null Count   Dtype  \n",
      "---  ------       --------------   -----  \n",
      " 0   Tire_ID      167902 non-null  object \n",
      " 1   check_point  167902 non-null  int64  \n",
      " 2   MappedRCP    167902 non-null  float64\n",
      "dtypes: float64(1), int64(1), object(1)\n",
      "memory usage: 3.8+ MB\n"
     ]
    }
   ],
   "source": [
    "episodes_df.info()"
   ]
  },
  {
   "cell_type": "code",
   "execution_count": 10,
   "metadata": {},
   "outputs": [
    {
     "name": "stdout",
     "output_type": "stream",
     "text": [
      "Count of Episodes:  67\n"
     ]
    }
   ],
   "source": [
    "print(\"Count of Episodes: \", episodes_df['check_point'].nunique())"
   ]
  },
  {
   "cell_type": "code",
   "execution_count": 25,
   "metadata": {},
   "outputs": [
    {
     "data": {
      "text/html": [
       "<div>\n",
       "<style scoped>\n",
       "    .dataframe tbody tr th:only-of-type {\n",
       "        vertical-align: middle;\n",
       "    }\n",
       "\n",
       "    .dataframe tbody tr th {\n",
       "        vertical-align: top;\n",
       "    }\n",
       "\n",
       "    .dataframe thead th {\n",
       "        text-align: right;\n",
       "    }\n",
       "</style>\n",
       "<table border=\"1\" class=\"dataframe\">\n",
       "  <thead>\n",
       "    <tr style=\"text-align: right;\">\n",
       "      <th></th>\n",
       "      <th>Tire_ID</th>\n",
       "      <th>age_category</th>\n",
       "    </tr>\n",
       "  </thead>\n",
       "  <tbody>\n",
       "    <tr>\n",
       "      <th>0</th>\n",
       "      <td>KH6427A</td>\n",
       "      <td>0-399</td>\n",
       "    </tr>\n",
       "    <tr>\n",
       "      <th>1</th>\n",
       "      <td>STX04</td>\n",
       "      <td>0-399</td>\n",
       "    </tr>\n",
       "    <tr>\n",
       "      <th>2</th>\n",
       "      <td>STX03</td>\n",
       "      <td>0-399</td>\n",
       "    </tr>\n",
       "    <tr>\n",
       "      <th>3</th>\n",
       "      <td>STO05</td>\n",
       "      <td>0-399</td>\n",
       "    </tr>\n",
       "    <tr>\n",
       "      <th>4</th>\n",
       "      <td>DC4452</td>\n",
       "      <td>0-399</td>\n",
       "    </tr>\n",
       "  </tbody>\n",
       "</table>\n",
       "</div>"
      ],
      "text/plain": [
       "   Tire_ID age_category\n",
       "0  KH6427A        0-399\n",
       "1    STX04        0-399\n",
       "2    STX03        0-399\n",
       "3    STO05        0-399\n",
       "4   DC4452        0-399"
      ]
     },
     "execution_count": 25,
     "metadata": {},
     "output_type": "execute_result"
    }
   ],
   "source": [
    "df_tire = pd.read_csv('../data/rf_training/tire_data.csv')\n",
    "df_tire.head()"
   ]
  },
  {
   "cell_type": "code",
   "execution_count": 26,
   "metadata": {},
   "outputs": [],
   "source": [
    "rcp_zero_df = episodes_df[episodes_df['MappedRCP'] == 0]\n",
    "\n",
    "# If there are multiple zeros, take the first occurrence\n",
    "rcp_zero_df = rcp_zero_df.groupby('Tire_ID').first().reset_index()"
   ]
  },
  {
   "cell_type": "code",
   "execution_count": 27,
   "metadata": {},
   "outputs": [],
   "source": [
    "df_tire = pd.merge(df_tire, rcp_zero_df[['Tire_ID', 'check_point']], on='Tire_ID', how='left')\n",
    "df_tire.rename(columns={'check_point': 'check_point_zero'}, inplace=True)"
   ]
  },
  {
   "cell_type": "code",
   "execution_count": 28,
   "metadata": {},
   "outputs": [
    {
     "data": {
      "text/html": [
       "<div>\n",
       "<style scoped>\n",
       "    .dataframe tbody tr th:only-of-type {\n",
       "        vertical-align: middle;\n",
       "    }\n",
       "\n",
       "    .dataframe tbody tr th {\n",
       "        vertical-align: top;\n",
       "    }\n",
       "\n",
       "    .dataframe thead th {\n",
       "        text-align: right;\n",
       "    }\n",
       "</style>\n",
       "<table border=\"1\" class=\"dataframe\">\n",
       "  <thead>\n",
       "    <tr style=\"text-align: right;\">\n",
       "      <th></th>\n",
       "      <th>Tire_ID</th>\n",
       "      <th>age_category</th>\n",
       "      <th>check_point_zero</th>\n",
       "    </tr>\n",
       "  </thead>\n",
       "  <tbody>\n",
       "    <tr>\n",
       "      <th>0</th>\n",
       "      <td>KH6427A</td>\n",
       "      <td>0-399</td>\n",
       "      <td>90.0</td>\n",
       "    </tr>\n",
       "    <tr>\n",
       "      <th>1</th>\n",
       "      <td>STX04</td>\n",
       "      <td>0-399</td>\n",
       "      <td>120.0</td>\n",
       "    </tr>\n",
       "    <tr>\n",
       "      <th>2</th>\n",
       "      <td>STX03</td>\n",
       "      <td>0-399</td>\n",
       "      <td>120.0</td>\n",
       "    </tr>\n",
       "    <tr>\n",
       "      <th>3</th>\n",
       "      <td>STO05</td>\n",
       "      <td>0-399</td>\n",
       "      <td>120.0</td>\n",
       "    </tr>\n",
       "    <tr>\n",
       "      <th>4</th>\n",
       "      <td>DC4452</td>\n",
       "      <td>0-399</td>\n",
       "      <td>150.0</td>\n",
       "    </tr>\n",
       "  </tbody>\n",
       "</table>\n",
       "</div>"
      ],
      "text/plain": [
       "   Tire_ID age_category  check_point_zero\n",
       "0  KH6427A        0-399              90.0\n",
       "1    STX04        0-399             120.0\n",
       "2    STX03        0-399             120.0\n",
       "3    STO05        0-399             120.0\n",
       "4   DC4452        0-399             150.0"
      ]
     },
     "execution_count": 28,
     "metadata": {},
     "output_type": "execute_result"
    }
   ],
   "source": [
    "df_tire.head()"
   ]
  },
  {
   "cell_type": "code",
   "execution_count": 29,
   "metadata": {},
   "outputs": [
    {
     "data": {
      "text/html": [
       "<div>\n",
       "<style scoped>\n",
       "    .dataframe tbody tr th:only-of-type {\n",
       "        vertical-align: middle;\n",
       "    }\n",
       "\n",
       "    .dataframe tbody tr th {\n",
       "        vertical-align: top;\n",
       "    }\n",
       "\n",
       "    .dataframe thead th {\n",
       "        text-align: right;\n",
       "    }\n",
       "</style>\n",
       "<table border=\"1\" class=\"dataframe\">\n",
       "  <thead>\n",
       "    <tr style=\"text-align: right;\">\n",
       "      <th></th>\n",
       "      <th>Tire_ID</th>\n",
       "      <th>age_category</th>\n",
       "      <th>check_point_zero</th>\n",
       "    </tr>\n",
       "  </thead>\n",
       "  <tbody>\n",
       "    <tr>\n",
       "      <th>0</th>\n",
       "      <td>KH6427A</td>\n",
       "      <td>0-399</td>\n",
       "      <td>90.0</td>\n",
       "    </tr>\n",
       "    <tr>\n",
       "      <th>1</th>\n",
       "      <td>STX04</td>\n",
       "      <td>0-399</td>\n",
       "      <td>120.0</td>\n",
       "    </tr>\n",
       "    <tr>\n",
       "      <th>2</th>\n",
       "      <td>STX03</td>\n",
       "      <td>0-399</td>\n",
       "      <td>120.0</td>\n",
       "    </tr>\n",
       "    <tr>\n",
       "      <th>3</th>\n",
       "      <td>STO05</td>\n",
       "      <td>0-399</td>\n",
       "      <td>120.0</td>\n",
       "    </tr>\n",
       "    <tr>\n",
       "      <th>11</th>\n",
       "      <td>JH1819W</td>\n",
       "      <td>0-399</td>\n",
       "      <td>150.0</td>\n",
       "    </tr>\n",
       "  </tbody>\n",
       "</table>\n",
       "</div>"
      ],
      "text/plain": [
       "    Tire_ID age_category  check_point_zero\n",
       "0   KH6427A        0-399              90.0\n",
       "1     STX04        0-399             120.0\n",
       "2     STX03        0-399             120.0\n",
       "3     STO05        0-399             120.0\n",
       "11  JH1819W        0-399             150.0"
      ]
     },
     "execution_count": 29,
     "metadata": {},
     "output_type": "execute_result"
    }
   ],
   "source": [
    "df_tire_sorted = df_tire.sort_values(by='check_point_zero')\n",
    "df_tire_sorted.head()"
   ]
  },
  {
   "cell_type": "code",
   "execution_count": 30,
   "metadata": {},
   "outputs": [],
   "source": [
    "df_tire_sorted.to_csv('../data/rf_training/tire_data.csv', index=False)"
   ]
  }
 ],
 "metadata": {
  "kernelspec": {
   "display_name": "Python 3",
   "language": "python",
   "name": "python3"
  },
  "language_info": {
   "codemirror_mode": {
    "name": "ipython",
    "version": 3
   },
   "file_extension": ".py",
   "mimetype": "text/x-python",
   "name": "python",
   "nbconvert_exporter": "python",
   "pygments_lexer": "ipython3",
   "version": "3.12.2"
  }
 },
 "nbformat": 4,
 "nbformat_minor": 2
}
